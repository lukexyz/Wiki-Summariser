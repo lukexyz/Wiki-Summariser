{
 "cells": [
  {
   "cell_type": "code",
   "execution_count": 1,
   "metadata": {
    "collapsed": false
   },
   "outputs": [],
   "source": [
    "import json\n",
    "import urllib.request\n",
    "\n",
    "from IPython.display import Image, display\n",
    "import textwrap"
   ]
  },
  {
   "cell_type": "code",
   "execution_count": 2,
   "metadata": {
    "collapsed": true
   },
   "outputs": [],
   "source": [
    "# Globals (from Wikipedia API)\n",
    "TEXT_URL_TMPL = 'https://en.wikipedia.org/w/api.php?action=query&prop=extracts&exsentences=2&titles={title}&explaintext=1&exintro=1&format=json'\n",
    "THUMB_URL_TMPL = 'https://en.wikipedia.org/w/api.php?action=query&prop=pageimages&titles={title}&format=json'"
   ]
  },
  {
   "cell_type": "code",
   "execution_count": 3,
   "metadata": {
    "collapsed": false
   },
   "outputs": [],
   "source": [
    "class WikiSummarizer(object):\n",
    "    \"\"\"\n",
    "    A stepwise processor the uses Wikipedia to summarize topics.\n",
    "\n",
    "    To use this module, instantiate with the topic name, \n",
    "    call .process() and then .get_results()\n",
    "    \"\"\"\n",
    "    \n",
    "    def __init__(self, topic):\n",
    "        self.topic = topic\n",
    "\n",
    "    def process(self):\n",
    "        self._fetch_text()\n",
    "        self._fetch_thumbnail()\n",
    "        return self\n",
    "\n",
    "    def get_results(self, as_text=False):\n",
    "        if as_text:\n",
    "            return self.topic + ' summary: ' + self._text\n",
    "        return WikiSummary(self.topic, self._thumb_url, self._text)\n",
    "\n",
    "    def _fetch_text(self):\n",
    "        self._text_api_url = TEXT_URL_TMPL.format(title=self.topic)\n",
    "        self._text_resp = self._get_url_json(self._text_api_url)\n",
    "        self._text = list(self._text_resp['query']['pages'].values())[0]['extract']\n",
    "\n",
    "    def _fetch_thumbnail(self):\n",
    "        self._thumb_api_url = THUMB_URL_TMPL.format(title=self.topic)\n",
    "        self._thumb_resp = self._get_url_json(self._thumb_api_url)\n",
    "        self._thumb_url = list(self._thumb_resp['query']['pages'].values())[0]['thumbnail']['source']\n",
    "\n",
    "    def _get_url_json(self, url):\n",
    "        resp = urllib.request.urlopen(url)\n",
    "        resp_body = resp.read()\n",
    "        return json.loads(resp_body.decode('utf-8'))\n",
    "\n",
    "\n",
    "class WikiSummary(object):\n",
    "    def __init__(self, topic, thumb_url, text):\n",
    "        self.topic = topic\n",
    "        self.thumb_url = thumb_url\n",
    "        self.text = text\n",
    "\n",
    "    def __repr__(self):\n",
    "        cn = self.__class__.__name__\n",
    "        return '%s(%r, %r, %r)' % (cn, self.topic, self.thumb_url, self.text)"
   ]
  },
  {
   "cell_type": "code",
   "execution_count": 4,
   "metadata": {
    "collapsed": true
   },
   "outputs": [],
   "source": [
    "def multi_summarizer(articles):\n",
    "    \"\"\"\n",
    "    Local function to format WikiSummarizer on a list of articles.\n",
    "    \"\"\"\n",
    "    for item in articles:\n",
    "        # Loop through each article and recall wiki summary\n",
    "        summarizer = WikiSummarizer(item)\n",
    "        summarizer.process()\n",
    "        summary = summarizer.get_results()\n",
    "        \n",
    "        # Format thumbnail and summary text\n",
    "        display(Image(url=summary.thumb_url))\n",
    "        print(textwrap.fill(summary.text, 90))\n",
    "        print(\"==============\")\n",
    "        Image(url=summary.thumb_url)"
   ]
  },
  {
   "cell_type": "markdown",
   "metadata": {},
   "source": [
    "### Calling multi_summarizer with a list of wikipedia queries\n"
   ]
  },
  {
   "cell_type": "code",
   "execution_count": 5,
   "metadata": {
    "collapsed": false
   },
   "outputs": [
    {
     "data": {
      "text/html": [
       "<img src=\"https://upload.wikimedia.org/wikipedia/commons/thumb/c/cb/Tea_leaves_steeping_in_a_zhong_%C4%8Daj_05.jpg/37px-Tea_leaves_steeping_in_a_zhong_%C4%8Daj_05.jpg\"/>"
      ],
      "text/plain": [
       "<IPython.core.display.Image object>"
      ]
     },
     "metadata": {},
     "output_type": "display_data"
    },
    {
     "name": "stdout",
     "output_type": "stream",
     "text": [
      "Tea is an aromatic beverage commonly prepared by pouring hot or boiling water over cured\n",
      "leaves of the Camellia sinensis, an evergreen shrub native to Asia. After water, it is the\n",
      "most widely consumed drink in the world.\n",
      "==============\n"
     ]
    },
    {
     "data": {
      "text/html": [
       "<img src=\"https://upload.wikimedia.org/wikipedia/commons/thumb/4/45/A_small_cup_of_coffee.JPG/50px-A_small_cup_of_coffee.JPG\"/>"
      ],
      "text/plain": [
       "<IPython.core.display.Image object>"
      ]
     },
     "metadata": {},
     "output_type": "display_data"
    },
    {
     "name": "stdout",
     "output_type": "stream",
     "text": [
      "Coffee is a brewed drink prepared from roasted coffee beans, which are the seeds of\n",
      "berries from the Coffea plant. The genus Coffea is native to tropical Africa, Madagascar,\n",
      "and the Comoros, Mauritius and Réunion in the Indian Ocean.\n",
      "==============\n"
     ]
    },
    {
     "data": {
      "text/html": [
       "<img src=\"https://upload.wikimedia.org/wikipedia/commons/thumb/2/2a/Svm_max_sep_hyperplane_with_margin.png/46px-Svm_max_sep_hyperplane_with_margin.png\"/>"
      ],
      "text/plain": [
       "<IPython.core.display.Image object>"
      ]
     },
     "metadata": {},
     "output_type": "display_data"
    },
    {
     "name": "stdout",
     "output_type": "stream",
     "text": [
      "Machine learning is a subfield of computer science that evolved from the study of pattern\n",
      "recognition and computational learning theory in artificial intelligence. In 1959, Arthur\n",
      "Samuel defined machine learning as a \"Field of study that gives computers the ability to\n",
      "learn without being explicitly programmed\".\n",
      "==============\n"
     ]
    }
   ],
   "source": [
    "multi_summarizer(['Tea', 'Coffee', 'Machine_learning'])"
   ]
  }
 ],
 "metadata": {
  "kernelspec": {
   "display_name": "Python 3",
   "language": "python",
   "name": "python3"
  },
  "language_info": {
   "codemirror_mode": {
    "name": "ipython",
    "version": 3
   },
   "file_extension": ".py",
   "mimetype": "text/x-python",
   "name": "python",
   "nbconvert_exporter": "python",
   "pygments_lexer": "ipython3",
   "version": "3.5.1"
  }
 },
 "nbformat": 4,
 "nbformat_minor": 0
}
